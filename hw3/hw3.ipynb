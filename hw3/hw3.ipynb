{
 "cells": [
  {
   "cell_type": "markdown",
   "id": "c1ceae1b",
   "metadata": {},
   "source": [
    "## Import statements and loading the data"
   ]
  },
  {
   "cell_type": "code",
   "execution_count": 1,
   "id": "c5537f67",
   "metadata": {},
   "outputs": [
    {
     "name": "stderr",
     "output_type": "stream",
     "text": [
      "2025-05-05 01:48:23.414782: I tensorflow/core/platform/cpu_feature_guard.cc:182] This TensorFlow binary is optimized to use available CPU instructions in performance-critical operations.\n",
      "To enable the following instructions: AVX2 FMA, in other operations, rebuild TensorFlow with the appropriate compiler flags.\n"
     ]
    }
   ],
   "source": [
    "import h5py\n",
    "import numpy as np\n",
    "import tensorflow as tf\n",
    "from tensorflow.keras.models import Sequential\n",
    "from tensorflow.keras.layers import Conv2D, MaxPooling2D, Flatten, Dense, Dropout, GlobalAveragePooling2D, BatchNormalization\n",
    "from tensorflow.keras.regularizers import l2\n",
    "from tensorflow.keras.callbacks import EarlyStopping\n",
    "from tensorflow.keras.utils import to_categorical\n",
    "from sklearn.model_selection import train_test_split\n",
    "import matplotlib.pyplot as plt\n",
    "import random\n",
    "from tensorflow.keras.optimizers import Adam\n",
    "from tensorflow.keras.losses import BinaryCrossentropy"
   ]
  },
  {
   "cell_type": "code",
   "execution_count": 2,
   "id": "018ee873",
   "metadata": {},
   "outputs": [
    {
     "data": {
      "text/plain": [
       "['amecro',\n",
       " 'amerob',\n",
       " 'bewwre',\n",
       " 'bkcchi',\n",
       " 'daejun',\n",
       " 'houfin',\n",
       " 'houspa',\n",
       " 'norfli',\n",
       " 'rewbla',\n",
       " 'sonspa',\n",
       " 'spotow',\n",
       " 'whcspa']"
      ]
     },
     "execution_count": 2,
     "metadata": {},
     "output_type": "execute_result"
    }
   ],
   "source": [
    "f = h5py.File('bird_spectrograms.hdf5', 'r')\n",
    "list(f.keys())"
   ]
  },
  {
   "cell_type": "code",
   "execution_count": 3,
   "id": "7307ad61",
   "metadata": {},
   "outputs": [
    {
     "name": "stdout",
     "output_type": "stream",
     "text": [
      "(128, 517, 66)\n",
      "(128, 517, 172)\n",
      "(128, 517, 144)\n",
      "(128, 517, 45)\n",
      "(128, 517, 125)\n",
      "(128, 517, 84)\n",
      "(128, 517, 630)\n",
      "(128, 517, 37)\n",
      "(128, 517, 187)\n",
      "(128, 517, 263)\n",
      "(128, 517, 137)\n",
      "(128, 517, 91)\n"
     ]
    }
   ],
   "source": [
    "for key in list(f.keys()):\n",
    "    print(f[key].shape)"
   ]
  },
  {
   "cell_type": "code",
   "execution_count": 4,
   "id": "92136096",
   "metadata": {},
   "outputs": [],
   "source": [
    "# set seeds to ensure reproducibility \n",
    "np.random.seed(5322)\n",
    "tf.random.set_seed(5322)\n",
    "random.seed(5322)"
   ]
  },
  {
   "cell_type": "markdown",
   "id": "94b8e74f",
   "metadata": {},
   "source": [
    "## Binary Classification (Song Sparrow and House Sparrow)\n",
    "- Just because these two species have the most samples in our dataset"
   ]
  },
  {
   "cell_type": "code",
   "execution_count": 5,
   "id": "5b777919",
   "metadata": {},
   "outputs": [],
   "source": [
    "# picked the two species with most samples for binary classifcation model\n",
    "# sonspa = song sparrow, houspa = house sparrow\n",
    "X1 = np.array(f['sonspa'])\n",
    "X2 = np.array(f['houspa'])"
   ]
  },
  {
   "cell_type": "code",
   "execution_count": 6,
   "id": "91950c41",
   "metadata": {},
   "outputs": [],
   "source": [
    "# create labels. 0 for song sparrow, 1 for house sparrow\n",
    "y1 = np.zeros(X1.shape[2])\n",
    "y2 = np.ones(X2.shape[2])"
   ]
  },
  {
   "cell_type": "code",
   "execution_count": 7,
   "id": "2538daf6",
   "metadata": {},
   "outputs": [],
   "source": [
    "# combine into one set\n",
    "X = np.concatenate((X1, X2), axis = 2)\n",
    "y = np.concatenate((y1, y2))"
   ]
  },
  {
   "cell_type": "code",
   "execution_count": 8,
   "id": "35d1570a",
   "metadata": {},
   "outputs": [],
   "source": [
    "# X has shape (128, 517, total_samples)\n",
    "# we need to format input like (total_samples, 128, 517, channels = 1 not 3 since not rgb)\n",
    "X = np.transpose(X, (2, 0, 1))\n",
    "X = X[..., np.newaxis]\n",
    "# X is now (total_samples, 128, 517, 1)"
   ]
  },
  {
   "cell_type": "code",
   "execution_count": 9,
   "id": "8a1185b5",
   "metadata": {},
   "outputs": [],
   "source": [
    "# split into train and test sets\n",
    "X_train, X_test, y_train, y_test = train_test_split(X, y, test_size = 0.2, random_state = 5322, stratify = y)\n",
    "\n",
    "# normalize data\n",
    "X_train = X_train / np.max(X_train)\n",
    "X_test = X_test / np.max(X_test)"
   ]
  },
  {
   "cell_type": "markdown",
   "id": "73a73c86",
   "metadata": {},
   "source": [
    "## First simple model 7 total layers\n",
    "- no l2 regularization yet\n",
    "- no dropout\n",
    "- (2, 2) max pooling to take max val of 2x2 windows\n",
    "- flatten layer"
   ]
  },
  {
   "cell_type": "code",
   "execution_count": null,
   "id": "679de1c7",
   "metadata": {},
   "outputs": [
    {
     "name": "stdout",
     "output_type": "stream",
     "text": [
      "Model: \"Binary_Model_1\"\n",
      "_________________________________________________________________\n",
      " Layer (type)                Output Shape              Param #   \n",
      "=================================================================\n",
      " conv2d (Conv2D)             (None, 126, 515, 16)      160       \n",
      "                                                                 \n",
      " max_pooling2d (MaxPooling2  (None, 63, 257, 16)       0         \n",
      " D)                                                              \n",
      "                                                                 \n",
      " conv2d_1 (Conv2D)           (None, 61, 255, 32)       4640      \n",
      "                                                                 \n",
      " max_pooling2d_1 (MaxPoolin  (None, 30, 127, 32)       0         \n",
      " g2D)                                                            \n",
      "                                                                 \n",
      " flatten (Flatten)           (None, 121920)            0         \n",
      "                                                                 \n",
      " dense (Dense)               (None, 64)                7802944   \n",
      "                                                                 \n",
      " dense_1 (Dense)             (None, 1)                 65        \n",
      "                                                                 \n",
      "=================================================================\n",
      "Total params: 7807809 (29.78 MB)\n",
      "Trainable params: 7807809 (29.78 MB)\n",
      "Non-trainable params: 0 (0.00 Byte)\n",
      "_________________________________________________________________\n",
      "Epoch 1/10\n",
      "36/36 [==============================] - 14s 358ms/step - loss: 19722144.0000 - accuracy: 0.5989 - val_loss: 0.8227 - val_accuracy: 0.6993\n",
      "Epoch 2/10\n",
      "36/36 [==============================] - 12s 343ms/step - loss: 22.2703 - accuracy: 0.7058 - val_loss: 0.7001 - val_accuracy: 0.6923\n",
      "Epoch 3/10\n",
      "36/36 [==============================] - 12s 347ms/step - loss: 31.7019 - accuracy: 0.7093 - val_loss: 0.7068 - val_accuracy: 0.6923\n",
      "Epoch 4/10\n",
      "36/36 [==============================] - 12s 344ms/step - loss: 0.6746 - accuracy: 0.7110 - val_loss: 0.7314 - val_accuracy: 0.6923\n",
      "Epoch 5/10\n",
      "36/36 [==============================] - 13s 355ms/step - loss: 0.6695 - accuracy: 0.7110 - val_loss: 0.7294 - val_accuracy: 0.6923\n",
      "Epoch 6/10\n",
      "36/36 [==============================] - 13s 369ms/step - loss: 0.6646 - accuracy: 0.7110 - val_loss: 0.7267 - val_accuracy: 0.6923\n",
      "Epoch 7/10\n",
      "36/36 [==============================] - 13s 363ms/step - loss: 0.6599 - accuracy: 0.7110 - val_loss: 0.7237 - val_accuracy: 0.6923\n",
      "Epoch 8/10\n",
      "36/36 [==============================] - 13s 359ms/step - loss: 0.6556 - accuracy: 0.7110 - val_loss: 0.7205 - val_accuracy: 0.6923\n",
      "Epoch 9/10\n",
      "36/36 [==============================] - 13s 356ms/step - loss: 0.6514 - accuracy: 0.7110 - val_loss: 0.7182 - val_accuracy: 0.6923\n",
      "Epoch 10/10\n",
      "36/36 [==============================] - 12s 346ms/step - loss: 0.6476 - accuracy: 0.7110 - val_loss: 0.7159 - val_accuracy: 0.6923\n",
      "6/6 [==============================] - 1s 164ms/step - loss: 0.6496 - accuracy: 0.7039\n",
      "\n",
      "Test accuracy: 0.7039105892181396\n"
     ]
    }
   ],
   "source": [
    "# our first and simplest cnn for binary classification\n",
    "model = Sequential([\n",
    "    # layer group 1\n",
    "    Conv2D(16, (3,3), activation = 'relu', input_shape = (128, 517, 1)),\n",
    "    MaxPooling2D(2, 2),\n",
    "    # layer group 2\n",
    "    Conv2D(32, (3,3), activation = 'relu'),\n",
    "    MaxPooling2D(2, 2),\n",
    "    # flatten layer\n",
    "    Flatten(),\n",
    "    # dense layers\n",
    "    Dense(units = 64, activation = 'relu'),\n",
    "    Dense(units = 1, activation = 'sigmoid')\n",
    "], name = \"Binary_Model_1\")\n",
    "\n",
    "# compile model\n",
    "model.compile(\n",
    "    optimizer = 'adam',\n",
    "    loss = 'binary_crossentropy',\n",
    "    metrics = ['accuracy']\n",
    ")\n",
    "\n",
    "# model summary\n",
    "model.summary()\n",
    "\n",
    "# train model\n",
    "history = model.fit(\n",
    "    X_train, y_train,\n",
    "    epochs = 10,\n",
    "    batch_size = 16,\n",
    "    validation_split = 0.2\n",
    ")\n",
    "\n",
    "# test the model\n",
    "test_loss, test_acc = model.evaluate(X_test, y_test)\n",
    "print(f'\\nTest accuracy: {test_acc}')"
   ]
  },
  {
   "cell_type": "markdown",
   "id": "db5d9695",
   "metadata": {},
   "source": [
    "This simple model does decent given its simplicity\\\n",
    " ~70% Train, test, and validation accuracies indicates good generalization, but also that we need more tuning obviously\\\n",
    " Hard to tell if model is overfitting because of the similar accuracies\\\n",
    " The model also seems to converge early on, so add early stopping to not run useless epochs and save time\\\n",
    " Another important thing is the number of parameters in the dense layer. 7.8 million parameters is crazy given our dataset size, so add something like global average pooling 2d to reduce to a reasonable number\\\n",
    " Overall, decent simple model, but needs more complexity and tuning"
   ]
  },
  {
   "cell_type": "code",
   "execution_count": 11,
   "id": "0c20a777",
   "metadata": {},
   "outputs": [
    {
     "data": {
      "image/png": "[encoded data removed]",
      "text/plain": [
       "<Figure size 640x480 with 1 Axes>"
      ]
     },
     "metadata": {},
     "output_type": "display_data"
    }
   ],
   "source": [
    "# visualize training accuracy versus validation accuracy\n",
    "plt.plot(history.history['accuracy'], label = 'Train Accuracy')\n",
    "plt.plot(history.history['val_accuracy'], label = 'Validation Accuracy')\n",
    "plt.xlabel('Epoch')\n",
    "plt.ylabel('Accuracy')\n",
    "plt.legend()\n",
    "plt.title('Binary Model 1 Training History')\n",
    "plt.show()"
   ]
  },
  {
   "cell_type": "markdown",
   "id": "ac801dc7",
   "metadata": {},
   "source": [
    "## Second model with improvements/adjustments 13 total layers\n",
    "- added another layer \"group\" for complexity\n",
    "- added 0.01 l2 regularization to discourage large weights\n",
    "- added 30% dropout to help with overfitting and regularization\n",
    "- also included global average pooling 2D instead of flatten to keep the number of parameters at each layer reasonable\n",
    "- added early stopping since previous model converged early on\n",
    "- also increased the number of epochs to allow the model to possibly improve accuracy"
   ]
  },
  {
   "cell_type": "code",
   "execution_count": null,
   "id": "8c36a2fc",
   "metadata": {},
   "outputs": [
    {
     "name": "stdout",
     "output_type": "stream",
     "text": [
      "Model: \"Binary_Model_2\"\n",
      "_________________________________________________________________\n",
      " Layer (type)                Output Shape              Param #   \n",
      "=================================================================\n",
      " conv2d_2 (Conv2D)           (None, 126, 515, 16)      160       \n",
      "                                                                 \n",
      " max_pooling2d_2 (MaxPoolin  (None, 63, 257, 16)       0         \n",
      " g2D)                                                            \n",
      "                                                                 \n",
      " dropout (Dropout)           (None, 63, 257, 16)       0         \n",
      "                                                                 \n",
      " conv2d_3 (Conv2D)           (None, 61, 255, 32)       4640      \n",
      "                                                                 \n",
      " max_pooling2d_3 (MaxPoolin  (None, 30, 127, 32)       0         \n",
      " g2D)                                                            \n",
      "                                                                 \n",
      " dropout_1 (Dropout)         (None, 30, 127, 32)       0         \n",
      "                                                                 \n",
      " conv2d_4 (Conv2D)           (None, 28, 125, 64)       18496     \n",
      "                                                                 \n",
      " max_pooling2d_4 (MaxPoolin  (None, 14, 62, 64)        0         \n",
      " g2D)                                                            \n",
      "                                                                 \n",
      " dropout_2 (Dropout)         (None, 14, 62, 64)        0         \n",
      "                                                                 \n",
      " global_average_pooling2d (  (None, 64)                0         \n",
      " GlobalAveragePooling2D)                                         \n",
      "                                                                 \n",
      " dense_2 (Dense)             (None, 64)                4160      \n",
      "                                                                 \n",
      " dropout_3 (Dropout)         (None, 64)                0         \n",
      "                                                                 \n",
      " dense_3 (Dense)             (None, 1)                 65        \n",
      "                                                                 \n",
      "=================================================================\n",
      "Total params: 27521 (107.50 KB)\n",
      "Trainable params: 27521 (107.50 KB)\n",
      "Non-trainable params: 0 (0.00 Byte)\n",
      "_________________________________________________________________\n",
      "Epoch 1/30\n",
      "36/36 [==============================] - 16s 396ms/step - loss: 363937.1875 - accuracy: 0.5762 - val_loss: 2222.6523 - val_accuracy: 0.5664\n",
      "Epoch 2/30\n",
      "36/36 [==============================] - 14s 398ms/step - loss: 14580.6787 - accuracy: 0.5797 - val_loss: 24081.7148 - val_accuracy: 0.3077\n",
      "Epoch 3/30\n",
      "36/36 [==============================] - 14s 395ms/step - loss: 89.2722 - accuracy: 0.7005 - val_loss: 47359.5117 - val_accuracy: 0.3077\n",
      "Epoch 4/30\n",
      "36/36 [==============================] - 14s 391ms/step - loss: 1.7417 - accuracy: 0.7075 - val_loss: 48744.2578 - val_accuracy: 0.3077\n",
      "Epoch 5/30\n",
      "36/36 [==============================] - 14s 388ms/step - loss: 1.8000 - accuracy: 0.7058 - val_loss: 47733.9844 - val_accuracy: 0.3077\n",
      "Epoch 6/30\n",
      "36/36 [==============================] - 14s 379ms/step - loss: 1.7082 - accuracy: 0.7075 - val_loss: 50580.7500 - val_accuracy: 0.3077\n",
      "6/6 [==============================] - 1s 85ms/step - loss: 3975.7104 - accuracy: 0.4804\n",
      "\n",
      "Test accuracy: 0.4804469347000122\n"
     ]
    }
   ],
   "source": [
    "# our second cnn for binary classification\n",
    "model = Sequential([\n",
    "    # layer group 1\n",
    "    Conv2D(16, (3, 3), activation = 'relu', input_shape = (128, 517, 1), kernel_regularizer = l2(0.01)),\n",
    "    MaxPooling2D(pool_size = (2, 2)),\n",
    "    Dropout(rate = 0.3),\n",
    "    # layer group 2\n",
    "    Conv2D(32, (3, 3), activation = 'relu', kernel_regularizer = l2(0.01)),\n",
    "    MaxPooling2D(pool_size = (2, 2)),\n",
    "    Dropout(rate = 0.3),\n",
    "    # layer group 3\n",
    "    Conv2D(64, (3, 3), activation = 'relu', kernel_regularizer = l2(0.01)),\n",
    "    MaxPooling2D(pool_size = (2, 2)),\n",
    "    Dropout(rate = 0.3),\n",
    "    # pooling to keep # of parameters in check\n",
    "    GlobalAveragePooling2D(),\n",
    "    # dense layers\n",
    "    Dense(units = 64, activation = 'relu', kernel_regularizer = l2(0.01)),\n",
    "    Dropout(rate = 0.3),\n",
    "    Dense(units = 1, activation = 'sigmoid')\n",
    "], name = \"Binary_Model_2\")\n",
    "\n",
    "# compile model\n",
    "model.compile(\n",
    "    optimizer = 'adam',\n",
    "    loss = 'binary_crossentropy',\n",
    "    metrics = ['accuracy']\n",
    ")\n",
    "\n",
    "# model summary\n",
    "model.summary()\n",
    "\n",
    "# early stopping since previous model did not improve after 3rd/4th epoch\n",
    "early_stopping = EarlyStopping(monitor = 'val_loss', patience = 5, restore_best_weights = True)\n",
    "\n",
    "# train the model\n",
    "history = model.fit(\n",
    "    X_train, y_train,\n",
    "    epochs = 30,\n",
    "    batch_size = 16,\n",
    "    validation_split = 0.2,\n",
    "    callbacks = [early_stopping]\n",
    ")\n",
    "\n",
    "# evaluate the model\n",
    "test_loss, test_acc = model.evaluate(X_test, y_test)\n",
    "print(f'\\nTest accuracy: {test_acc}')"
   ]
  },
  {
   "cell_type": "markdown",
   "id": "9dc96f6b",
   "metadata": {},
   "source": [
    "Somehow did worse with adjustments. Might need to make more drastic tuning changes\\\n",
    "This model definitely overfit seen with the higher training accuracy and much lower validation accuracy\\\n",
    "Performed worse than random guessing\\\n",
    "At least early stopping worked\\\n",
    "Might need to add more layers\\\n",
    "Change regularization weight to try and prevent overfitting even more\\\n",
    "Maybe adjust dropout rate to scale with filter sizes"
   ]
  },
  {
   "cell_type": "code",
   "execution_count": 13,
   "id": "49f8c117",
   "metadata": {},
   "outputs": [
    {
     "data": {
      "image/png": "[encoded data removed]",
      "text/plain": [
       "<Figure size 640x480 with 1 Axes>"
      ]
     },
     "metadata": {},
     "output_type": "display_data"
    }
   ],
   "source": [
    "# visualize training accuracy versus validation accuracy\n",
    "plt.plot(history.history['accuracy'], label = 'Train Accuracy')\n",
    "plt.plot(history.history['val_accuracy'], label = 'Validation Accuracy')\n",
    "plt.xlabel('Epoch')\n",
    "plt.ylabel('Accuracy')\n",
    "plt.legend()\n",
    "plt.title('Binary Model 2 Training History')\n",
    "plt.show()"
   ]
  },
  {
   "cell_type": "markdown",
   "id": "58616abb",
   "metadata": {},
   "source": [
    "## Final binary model with even more improvements/adjustments 24 total layers\n",
    "- added a couple more layers for more complexity\n",
    "- started the filter size at 32 instead of 16\n",
    "- modified the dropouts at each layer to scale with filter sizes as they increase\n",
    "- change l2 regularization to 0.0001 from 0.01 to prevent overfitting a little bit\n",
    "- reduced the adam optimizer learning rate to allow for better convergence\n",
    "- added batch normalization to stabilize and speed up training a little bit given we added more layers\n",
    "- kept padding to be 'same' to retain more spatial information and details from our input as layer size increases. helps given small input sizes\n",
    "- reduced stopping patience to 3 in case continous non improvement like previous model\n",
    "- tried label smoothing so instead of comparing predictions with 0 and 1, it compares with 0.05 and 0.95"
   ]
  },
  {
   "cell_type": "code",
   "execution_count": null,
   "id": "57156fa7",
   "metadata": {},
   "outputs": [
    {
     "name": "stdout",
     "output_type": "stream",
     "text": [
      "Model: \"Binary_Model_3\"\n",
      "_________________________________________________________________\n",
      " Layer (type)                Output Shape              Param #   \n",
      "=================================================================\n",
      " conv2d_5 (Conv2D)           (None, 128, 517, 32)      320       \n",
      "                                                                 \n",
      " batch_normalization (Batch  (None, 128, 517, 32)      128       \n",
      " Normalization)                                                  \n",
      "                                                                 \n",
      " max_pooling2d_5 (MaxPoolin  (None, 64, 258, 32)       0         \n",
      " g2D)                                                            \n",
      "                                                                 \n",
      " dropout_4 (Dropout)         (None, 64, 258, 32)       0         \n",
      "                                                                 \n",
      " conv2d_6 (Conv2D)           (None, 64, 258, 64)       18496     \n",
      "                                                                 \n",
      " batch_normalization_1 (Bat  (None, 64, 258, 64)       256       \n",
      " chNormalization)                                                \n",
      "                                                                 \n",
      " max_pooling2d_6 (MaxPoolin  (None, 32, 129, 64)       0         \n",
      " g2D)                                                            \n",
      "                                                                 \n",
      " dropout_5 (Dropout)         (None, 32, 129, 64)       0         \n",
      "                                                                 \n",
      " conv2d_7 (Conv2D)           (None, 32, 129, 128)      73856     \n",
      "                                                                 \n",
      " batch_normalization_2 (Bat  (None, 32, 129, 128)      512       \n",
      " chNormalization)                                                \n",
      "                                                                 \n",
      " max_pooling2d_7 (MaxPoolin  (None, 16, 64, 128)       0         \n",
      " g2D)                                                            \n",
      "                                                                 \n",
      " dropout_6 (Dropout)         (None, 16, 64, 128)       0         \n",
      "                                                                 \n",
      " conv2d_8 (Conv2D)           (None, 16, 64, 128)       147584    \n",
      "                                                                 \n",
      " batch_normalization_3 (Bat  (None, 16, 64, 128)       512       \n",
      " chNormalization)                                                \n",
      "                                                                 \n",
      " max_pooling2d_8 (MaxPoolin  (None, 8, 32, 128)        0         \n",
      " g2D)                                                            \n",
      "                                                                 \n",
      " dropout_7 (Dropout)         (None, 8, 32, 128)        0         \n",
      "                                                                 \n",
      " conv2d_9 (Conv2D)           (None, 8, 32, 256)        295168    \n",
      "                                                                 \n",
      " batch_normalization_4 (Bat  (None, 8, 32, 256)        1024      \n",
      " chNormalization)                                                \n",
      "                                                                 \n",
      " max_pooling2d_9 (MaxPoolin  (None, 4, 16, 256)        0         \n",
      " g2D)                                                            \n",
      "                                                                 \n",
      " dropout_8 (Dropout)         (None, 4, 16, 256)        0         \n",
      "                                                                 \n",
      " global_average_pooling2d_1  (None, 256)               0         \n",
      "  (GlobalAveragePooling2D)                                       \n",
      "                                                                 \n",
      " dense_4 (Dense)             (None, 128)               32896     \n",
      "                                                                 \n",
      " dropout_9 (Dropout)         (None, 128)               0         \n",
      "                                                                 \n",
      " dense_5 (Dense)             (None, 1)                 129       \n",
      "                                                                 \n",
      "=================================================================\n",
      "Total params: 570881 (2.18 MB)\n",
      "Trainable params: 569665 (2.17 MB)\n",
      "Non-trainable params: 1216 (4.75 KB)\n",
      "_________________________________________________________________\n",
      "Epoch 1/30\n",
      "36/36 [==============================] - 59s 2s/step - loss: 0.6874 - accuracy: 0.6935 - val_loss: 0.8760 - val_accuracy: 0.3706\n",
      "Epoch 2/30\n",
      "36/36 [==============================] - 54s 1s/step - loss: 0.6443 - accuracy: 0.7163 - val_loss: 0.6658 - val_accuracy: 0.7063\n",
      "Epoch 3/30\n",
      "36/36 [==============================] - 54s 2s/step - loss: 0.6343 - accuracy: 0.7356 - val_loss: 0.6233 - val_accuracy: 0.7343\n",
      "Epoch 4/30\n",
      "36/36 [==============================] - 55s 2s/step - loss: 0.6201 - accuracy: 0.7513 - val_loss: 0.6018 - val_accuracy: 0.7552\n",
      "Epoch 5/30\n",
      "36/36 [==============================] - 55s 2s/step - loss: 0.5938 - accuracy: 0.7741 - val_loss: 0.6003 - val_accuracy: 0.7552\n",
      "Epoch 6/30\n",
      "36/36 [==============================] - 55s 2s/step - loss: 0.5904 - accuracy: 0.7688 - val_loss: 0.5823 - val_accuracy: 0.7552\n",
      "Epoch 7/30\n",
      "36/36 [==============================] - 54s 2s/step - loss: 0.5906 - accuracy: 0.7846 - val_loss: 0.5600 - val_accuracy: 0.7692\n",
      "Epoch 8/30\n",
      "36/36 [==============================] - 56s 2s/step - loss: 0.5519 - accuracy: 0.8004 - val_loss: 0.5434 - val_accuracy: 0.7902\n",
      "Epoch 9/30\n",
      "36/36 [==============================] - 54s 2s/step - loss: 0.5550 - accuracy: 0.8056 - val_loss: 0.5362 - val_accuracy: 0.7832\n",
      "Epoch 10/30\n",
      "36/36 [==============================] - 55s 2s/step - loss: 0.5295 - accuracy: 0.8161 - val_loss: 0.5172 - val_accuracy: 0.7902\n",
      "Epoch 11/30\n",
      "36/36 [==============================] - 56s 2s/step - loss: 0.5418 - accuracy: 0.8091 - val_loss: 0.5015 - val_accuracy: 0.8112\n",
      "Epoch 12/30\n",
      "36/36 [==============================] - 55s 2s/step - loss: 0.5130 - accuracy: 0.8336 - val_loss: 0.4923 - val_accuracy: 0.7972\n",
      "Epoch 13/30\n",
      "36/36 [==============================] - 55s 2s/step - loss: 0.4985 - accuracy: 0.8301 - val_loss: 0.4834 - val_accuracy: 0.7902\n",
      "Epoch 14/30\n",
      "36/36 [==============================] - 55s 2s/step - loss: 0.4917 - accuracy: 0.8371 - val_loss: 0.4858 - val_accuracy: 0.7902\n",
      "Epoch 15/30\n",
      "36/36 [==============================] - 55s 2s/step - loss: 0.4922 - accuracy: 0.8336 - val_loss: 0.4883 - val_accuracy: 0.7902\n",
      "Epoch 16/30\n",
      "36/36 [==============================] - 55s 2s/step - loss: 0.4849 - accuracy: 0.8301 - val_loss: 0.4803 - val_accuracy: 0.7832\n",
      "Epoch 17/30\n",
      "36/36 [==============================] - 55s 2s/step - loss: 0.4605 - accuracy: 0.8546 - val_loss: 0.4806 - val_accuracy: 0.7832\n",
      "Epoch 18/30\n",
      "36/36 [==============================] - 55s 2s/step - loss: 0.4400 - accuracy: 0.8739 - val_loss: 0.5015 - val_accuracy: 0.7832\n",
      "Epoch 19/30\n",
      "36/36 [==============================] - 55s 2s/step - loss: 0.4294 - accuracy: 0.8581 - val_loss: 0.4431 - val_accuracy: 0.8741\n",
      "Epoch 20/30\n",
      "36/36 [==============================] - 55s 2s/step - loss: 0.4383 - accuracy: 0.8687 - val_loss: 0.4771 - val_accuracy: 0.8182\n",
      "Epoch 21/30\n",
      "36/36 [==============================] - 55s 2s/step - loss: 0.4429 - accuracy: 0.8599 - val_loss: 0.4431 - val_accuracy: 0.8671\n",
      "Epoch 22/30\n",
      "36/36 [==============================] - 54s 2s/step - loss: 0.4411 - accuracy: 0.8406 - val_loss: 0.4428 - val_accuracy: 0.8811\n",
      "Epoch 23/30\n",
      "36/36 [==============================] - 55s 2s/step - loss: 0.4127 - accuracy: 0.8634 - val_loss: 0.4226 - val_accuracy: 0.8881\n",
      "Epoch 24/30\n",
      "36/36 [==============================] - 54s 2s/step - loss: 0.4114 - accuracy: 0.8862 - val_loss: 0.4361 - val_accuracy: 0.8741\n",
      "Epoch 25/30\n",
      "36/36 [==============================] - 54s 2s/step - loss: 0.3953 - accuracy: 0.8844 - val_loss: 0.4571 - val_accuracy: 0.8531\n",
      "Epoch 26/30\n",
      "36/36 [==============================] - 55s 2s/step - loss: 0.4083 - accuracy: 0.8774 - val_loss: 0.4096 - val_accuracy: 0.8951\n",
      "Epoch 27/30\n",
      "36/36 [==============================] - 55s 2s/step - loss: 0.3935 - accuracy: 0.8879 - val_loss: 0.4667 - val_accuracy: 0.8741\n",
      "Epoch 28/30\n",
      "36/36 [==============================] - 55s 2s/step - loss: 0.3636 - accuracy: 0.8949 - val_loss: 0.4635 - val_accuracy: 0.8881\n",
      "Epoch 29/30\n",
      "36/36 [==============================] - 54s 2s/step - loss: 0.3790 - accuracy: 0.9107 - val_loss: 0.4375 - val_accuracy: 0.9021\n",
      "6/6 [==============================] - 4s 624ms/step - loss: 0.5184 - accuracy: 0.8436\n",
      "\n",
      "Test accuracy: 0.8435754179954529\n"
     ]
    }
   ],
   "source": [
    "# final more complex cnn for binary classification with additional layers\n",
    "model = Sequential([\n",
    "    # layer group 1\n",
    "    Conv2D(32, (3, 3), activation = 'relu', input_shape = (128, 517, 1), kernel_regularizer = l2(0.0001), padding = 'same'),\n",
    "    BatchNormalization(),\n",
    "    MaxPooling2D(2, 2),\n",
    "    Dropout(0.2),\n",
    "    # layer group 2\n",
    "    Conv2D(64, (3, 3), activation = 'relu', kernel_regularizer = l2(0.0001), padding = 'same'),\n",
    "    BatchNormalization(),\n",
    "    MaxPooling2D(2, 2),\n",
    "    Dropout(0.2),\n",
    "    # layer group 3\n",
    "    Conv2D(128, (3, 3), activation = 'relu', kernel_regularizer = l2(0.0001), padding = 'same'),\n",
    "    BatchNormalization(),\n",
    "    MaxPooling2D(2, 2),\n",
    "    Dropout(0.3),\n",
    "    # layer group 4\n",
    "    Conv2D(128, (3, 3), activation = 'relu', kernel_regularizer = l2(0.0001), padding = 'same'),\n",
    "    BatchNormalization(),\n",
    "    MaxPooling2D(2, 2),\n",
    "    Dropout(0.3),\n",
    "    # layer group 5\n",
    "    Conv2D(256, (3, 3), activation = 'relu', kernel_regularizer = l2(0.0001), padding = 'same'),\n",
    "    BatchNormalization(),\n",
    "    MaxPooling2D(2, 2),\n",
    "    Dropout(0.4),\n",
    "    # keep # of params in check\n",
    "    GlobalAveragePooling2D(),\n",
    "    # dense layers\n",
    "    Dense(units = 128, activation = 'relu', kernel_regularizer = l2(0.0001)),\n",
    "    Dropout(0.4),\n",
    "    Dense(units = 1, activation = 'sigmoid')\n",
    "], name = \"Binary_Model_3\")\n",
    "\n",
    "# compile the model with lower learning rate\n",
    "model.compile(\n",
    "    optimizer = Adam(learning_rate = 0.0001),\n",
    "    loss = BinaryCrossentropy(label_smoothing = 0.05),\n",
    "    metrics = ['accuracy']\n",
    ")\n",
    "\n",
    "# model summary\n",
    "model.summary()\n",
    "\n",
    "# early stopping with less patience\n",
    "early_stopping = EarlyStopping(monitor = 'val_loss', patience = 3, restore_best_weights = True)\n",
    "\n",
    "# train the model\n",
    "history = model.fit(\n",
    "    X_train, y_train,\n",
    "    epochs = 30,\n",
    "    batch_size = 16,\n",
    "    validation_split = 0.2,\n",
    "    callbacks = [early_stopping]\n",
    ")\n",
    "\n",
    "# evaluate the model\n",
    "test_loss, test_acc = model.evaluate(X_test, y_test)\n",
    "print(f'\\nTest accuracy: {test_acc}')"
   ]
  },
  {
   "cell_type": "markdown",
   "id": "e51d2739",
   "metadata": {},
   "source": [
    "Much more stable model with much better accuracy than previous 2 with the gradual and progressive learning\\\n",
    "Great accuracy ~84% on test set\\\n",
    "Seems the additional layers, the label smoothing, lower l2 regularization, scaling dropout, same padding, batch normalization, and smaller learning rate helped improve the model significantly\\\n",
    "No signs of overfitting either which is amazing\\\n",
    "Used almost all 30 epochs, too"
   ]
  },
  {
   "cell_type": "code",
   "execution_count": 15,
   "id": "bed3a77f",
   "metadata": {},
   "outputs": [
    {
     "data": {
      "image/png": "[encoded data removed]",
      "text/plain": [
       "<Figure size 640x480 with 1 Axes>"
      ]
     },
     "metadata": {},
     "output_type": "display_data"
    }
   ],
   "source": [
    "# visualize training accuracy versus validation accuracy\n",
    "plt.plot(history.history['accuracy'], label = 'Train Accuracy')\n",
    "plt.plot(history.history['val_accuracy'], label = 'Validation Accuracy')\n",
    "plt.xlabel('Epoch')\n",
    "plt.ylabel('Accuracy')\n",
    "plt.legend()\n",
    "plt.title('Binary Model 3 Training History')\n",
    "plt.show()"
   ]
  },
  {
   "cell_type": "markdown",
   "id": "d8912a91",
   "metadata": {},
   "source": [
    "Beautiful"
   ]
  },
  {
   "cell_type": "markdown",
   "id": "4a1def19",
   "metadata": {},
   "source": [
    "## Multiclass Classification (All species)"
   ]
  },
  {
   "cell_type": "code",
   "execution_count": 16,
   "id": "5995a9eb",
   "metadata": {},
   "outputs": [],
   "source": [
    "# combine data into one dataset\n",
    "X = np.concatenate([np.array(f[species]) for species in list(f.keys())], axis = 2)\n",
    "y = np.concatenate([np.full(f[species].shape[2], index) for index, species in enumerate(list(f.keys()))])"
   ]
  },
  {
   "cell_type": "code",
   "execution_count": 17,
   "id": "6809e428",
   "metadata": {},
   "outputs": [],
   "source": [
    "# X has shape (128, 517, total_samples)\n",
    "# we need to format input like (total_samples, 128, 517, channels = 1 not 3 since not rgb)\n",
    "X = np.transpose(X, (2, 0, 1))\n",
    "X = X[..., np.newaxis]\n",
    "# X is now (total_samples, 128, 517, 1)"
   ]
  },
  {
   "cell_type": "code",
   "execution_count": 18,
   "id": "78cfce8a",
   "metadata": {},
   "outputs": [],
   "source": [
    "# split into train and test sets\n",
    "X_train, X_test, y_train, y_test = train_test_split(X, y, test_size = 0.2, random_state = 5322, stratify = y)\n",
    "\n",
    "# noramlize data\n",
    "X_train = X_train / np.max(X_train)\n",
    "X_test  = X_test / np.max(X_test)"
   ]
  },
  {
   "cell_type": "code",
   "execution_count": null,
   "id": "e4285c86",
   "metadata": {},
   "outputs": [],
   "source": []
  }
 ],
 "metadata": {
  "kernelspec": {
   "display_name": "base",
   "language": "python",
   "name": "python3"
  },
  "language_info": {
   "codemirror_mode": {
    "name": "ipython",
    "version": 3
   },
   "file_extension": ".py",
   "mimetype": "text/x-python",
   "name": "python",
   "nbconvert_exporter": "python",
   "pygments_lexer": "ipython3",
   "version": "3.11.5"
  }
 },
 "nbformat": 4,
 "nbformat_minor": 5
}
