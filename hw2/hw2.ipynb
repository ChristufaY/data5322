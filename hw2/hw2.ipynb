{
 "cells": [
  {
   "cell_type": "code",
   "execution_count": null,
   "id": "1ff653e9",
   "metadata": {},
   "outputs": [],
   "source": [
    "# import statements at the top for readability\n",
    "import pandas as pd\n",
    "import numpy as np\n",
    "from sklearn.model_selection import train_test_split, GridSearchCV\n",
    "from sklearn.svm import SVC\n",
    "from sklearn.preprocessing import StandardScaler\n",
    "from sklearn.metrics import classification_report, confusion_matrix, accuracy_score\n",
    "import matplotlib.pyplot as plt"
   ]
  },
  {
   "cell_type": "code",
   "execution_count": null,
   "id": "28badd56",
   "metadata": {},
   "outputs": [],
   "source": [
    "data = pd.read_csv('nhis_2022.csv')\n",
    "data.head()"
   ]
  },
  {
   "cell_type": "code",
   "execution_count": null,
   "id": "2d844882",
   "metadata": {},
   "outputs": [],
   "source": [
    "data.columns"
   ]
  },
  {
   "cell_type": "code",
   "execution_count": null,
   "id": "612dcad4",
   "metadata": {},
   "outputs": [],
   "source": [
    "data.shape"
   ]
  },
  {
   "cell_type": "markdown",
   "id": "b0917f5d",
   "metadata": {},
   "source": [
    "## Data Preprocessing"
   ]
  },
  {
   "cell_type": "code",
   "execution_count": null,
   "id": "c0159a7d",
   "metadata": {},
   "outputs": [],
   "source": [
    "# variables i want to use\n",
    "# i want three models where\n",
    "# target = cancer ever (CANCEREV)\n",
    "# model 1: linear svm --> demo/health\n",
    "# model 2: radial svm --> activity/alc/smoke\n",
    "# model 3: poly svm --> food\n",
    "target = 'CANCEREV'\n",
    "demo_health = ['AGE', 'SEX', 'BMICALC', 'EDUC', 'HINOTCOVE']\n",
    "activity = ['ALCANYNO', 'CIGDAYMO', 'MOD10DMIN', 'VIG10DMIN', 'HRSLEEP', 'HOURSWRK']\n",
    "food = ['FRUTNO', 'VEGENO', 'JUICEMNO', 'SALADSNO', 'BEANNO', 'SALSAMNO', 'TOMSAUCEMNO', 'SODAPNO', 'FRIESPNO', 'SPORDRMNO', 'FRTDRINKMNO', 'COFETEAMNO', 'POTATONO', 'PIZZANO']\n",
    "data = data[[target] + demo_health + activity + food]\n",
    "data.columns"
   ]
  },
  {
   "cell_type": "code",
   "execution_count": null,
   "id": "0ecc0ab8",
   "metadata": {},
   "outputs": [],
   "source": [
    "data.isna().sum()\n",
    "# no missing values. interesting"
   ]
  },
  {
   "cell_type": "code",
   "execution_count": null,
   "id": "91eddd45",
   "metadata": {},
   "outputs": [],
   "source": [
    "for col in data.columns:\n",
    "    print(data[col].value_counts())"
   ]
  },
  {
   "cell_type": "code",
   "execution_count": null,
   "id": "db9c443a",
   "metadata": {},
   "outputs": [],
   "source": [
    "# clean/filter the invalid values like 999, 998, etc.\n",
    "data = data.replace([999, 998, 997, 996], np.nan)\n",
    "data = data[data['CANCEREV'].isin([1, 2])]\n",
    "data = data[data['SEX'].isin([1, 2])]\n",
    "data = data[data['HINOTCOVE'].isin([1, 2])]\n",
    "data = data.dropna()\n",
    "data.head()"
   ]
  },
  {
   "cell_type": "code",
   "execution_count": null,
   "id": "3f3edf9a",
   "metadata": {},
   "outputs": [],
   "source": [
    "for col in data.columns:\n",
    "    print(data[col].value_counts())"
   ]
  },
  {
   "cell_type": "markdown",
   "id": "304eb4ec",
   "metadata": {},
   "source": [
    "## Modeling - Linear SVM"
   ]
  },
  {
   "cell_type": "code",
   "execution_count": null,
   "id": "c9318e9a",
   "metadata": {},
   "outputs": [],
   "source": [
    "X_linear = data[demo_health]\n",
    "y_linear = data[target]\n",
    "\n",
    "scaler = StandardScaler()\n",
    "X_linear_scaled = scaler.fit_transform(X_linear)\n",
    "\n",
    "x_train, x_test, y_train, y_test = train_test_split(X_linear_scaled, y_linear, test_size = 0.2, random_state = 5322)"
   ]
  },
  {
   "cell_type": "code",
   "execution_count": null,
   "id": "cfce2597",
   "metadata": {},
   "outputs": [],
   "source": [
    "param_grid = {'C': [0.1, 1, 10]}\n",
    "model = SVC(kernel = 'linear', class_weight = 'balanced', random_state = 5322)\n",
    "\n",
    "linear_grid = GridSearchCV(\n",
    "    estimator = model,\n",
    "    param_grid = param_grid,\n",
    "    scoring = 'f1_weighted',\n",
    "    cv = 5,\n",
    "    n_jobs = -1,\n",
    "    verbose = 1\n",
    ")\n",
    "linear_grid.fit(x_train, y_train)\n",
    "\n",
    "print(linear_grid.best_params_)\n",
    "print(linear_grid.best_score_)\n",
    "print(classification_report(y_test, linear_grid.predict(x_test), zero_division = 0))"
   ]
  },
  {
   "cell_type": "markdown",
   "id": "845858c1",
   "metadata": {},
   "source": [
    "Some things to note:\n",
    "\n",
    "Precision is high for non-cancer individuals, but recall is low\\\n",
    "Precision is low for cancer individuals, but recall is high\\\n",
    "Clear class imbalance: a lot more non-cancer individuals in our dataset versus cancer individuals\\\n",
    "\n",
    "Accuracy is not that good either. 70% train, 64% test."
   ]
  },
  {
   "cell_type": "code",
   "execution_count": null,
   "id": "63bf3ff1",
   "metadata": {},
   "outputs": [],
   "source": []
  },
  {
   "cell_type": "markdown",
   "id": "2f4fec1d",
   "metadata": {},
   "source": [
    "## Modeling - Radial"
   ]
  },
  {
   "cell_type": "code",
   "execution_count": null,
   "id": "7b98e37b",
   "metadata": {},
   "outputs": [],
   "source": [
    "param_grid = {\n",
    "    'C': [0.01, 0.1, 1, 10],\n",
    "    'gamma': [0.1, 1, 10]\n",
    "}\n",
    "\n",
    "model = SVC(kernel = 'rbf', class_weight = 'balanced', random_state = 5322)\n",
    "\n",
    "radial_grid = GridSearchCV(\n",
    "    estimator = model,\n",
    "    param_grid = param_grid,\n",
    "    scoring = 'f1_weighted',\n",
    "    cv = 5,\n",
    "    n_jobs = -1,\n",
    "    verbose = 1\n",
    ")\n",
    "\n",
    "radial_grid.fit(x_train, y_train)\n",
    "\n",
    "print(radial_grid.best_params_)\n",
    "print(radial_grid.best_score_)\n",
    "print(classification_report(y_test, radial_grid.predict(x_test), zero_division = 0))"
   ]
  },
  {
   "cell_type": "markdown",
   "id": "de16d917",
   "metadata": {},
   "source": [
    "Some things to note:\n",
    "\n",
    "Radial model did better than linear\\\n",
    "We did use different variables, so maybe activity, alcohol, and/or smoking has more of an influence on cancer (not surprising/pretty intuitive)\\\n",
    "Precision is again high for non-cancer individuals, and recall was a bit higher, but still a little low\\\n",
    "Precision is still low for cancer individuals, but recall is high\\\n",
    "Clear class imbalance: a lot more non-cancer individuals in our dataset versus cancer individuals\\\n",
    "\n",
    "Accuracy is ~ 5% better than linear. 75% train, 70% test."
   ]
  },
  {
   "cell_type": "code",
   "execution_count": null,
   "id": "24358651",
   "metadata": {},
   "outputs": [],
   "source": []
  },
  {
   "cell_type": "markdown",
   "id": "cf4660b1",
   "metadata": {},
   "source": [
    "## Modeling - Polynomial SVM"
   ]
  },
  {
   "cell_type": "code",
   "execution_count": null,
   "id": "e6fe3b15",
   "metadata": {},
   "outputs": [],
   "source": [
    "param_grid = {\n",
    "    'C': [0.1, 1, 10],\n",
    "    'gamma': [0.1, 1, 10],\n",
    "    'degree': [2, 3]\n",
    "}\n",
    "\n",
    "model = SVC(kernel = 'poly', class_weight = 'balanced', random_state = 5322)\n",
    "\n",
    "poly_grid = GridSearchCV(\n",
    "    estimator = model,\n",
    "    param_grid = param_grid,\n",
    "    scoring = 'f1_weighted',\n",
    "    cv = 5,\n",
    "    n_jobs = -1,\n",
    "    verbose = 1\n",
    ")\n",
    "\n",
    "poly_grid.fit(x_train, y_train)\n",
    "\n",
    "print(poly_grid.best_params_)\n",
    "print(poly_grid.best_score_)\n",
    "print(classification_report(y_test, poly_grid.predict(x_test), zero_division = 0))"
   ]
  },
  {
   "cell_type": "markdown",
   "id": "4c5668ac",
   "metadata": {},
   "source": [
    "Poly is taking over 40minutes, so i just stopped it. might need to change this somehow..."
   ]
  },
  {
   "cell_type": "code",
   "execution_count": null,
   "id": "3635164b",
   "metadata": {},
   "outputs": [],
   "source": []
  }
 ],
 "metadata": {
  "kernelspec": {
   "display_name": "base",
   "language": "python",
   "name": "python3"
  },
  "language_info": {
   "codemirror_mode": {
    "name": "ipython",
    "version": 3
   },
   "file_extension": ".py",
   "mimetype": "text/x-python",
   "name": "python",
   "nbconvert_exporter": "python",
   "pygments_lexer": "ipython3",
   "version": "3.11.5"
  }
 },
 "nbformat": 4,
 "nbformat_minor": 5
}
